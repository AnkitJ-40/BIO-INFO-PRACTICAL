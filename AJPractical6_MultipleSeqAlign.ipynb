{
  "nbformat": 4,
  "nbformat_minor": 0,
  "metadata": {
    "colab": {
      "name": "AJPractical6_MultipleSeqAlign.ipynb",
      "provenance": [],
      "include_colab_link": true
    },
    "kernelspec": {
      "name": "python3",
      "display_name": "Python 3"
    },
    "language_info": {
      "name": "python"
    }
  },
  "cells": [
    {
      "cell_type": "markdown",
      "metadata": {
        "id": "view-in-github",
        "colab_type": "text"
      },
      "source": [
        "<a href=\"https://colab.research.google.com/github/AnkitJ-40/BIO-INFO-PRACTICAL/blob/main/AJPractical6_MultipleSeqAlign.ipynb\" target=\"_parent\"><img src=\"https://colab.research.google.com/assets/colab-badge.svg\" alt=\"Open In Colab\"/></a>"
      ]
    },
    {
      "cell_type": "code",
      "execution_count": 1,
      "metadata": {
        "colab": {
          "base_uri": "https://localhost:8080/"
        },
        "id": "vPJmNUS_7J_I",
        "outputId": "74a7ee2f-ea61-4cdf-b977-6538f5c591d7"
      },
      "outputs": [
        {
          "output_type": "stream",
          "name": "stdout",
          "text": [
            "Enter how many sequences is to be entered:3\n",
            "Enter the seq in comma separated format:a,f,g,h,j\n",
            "Enter the seq in comma separated format:r,y,g,f,d\n",
            "Enter the seq in comma separated format:w,f,d,g,h\n",
            "Consensus:  ['A/R/W', 'f', 'g', 'H/F/G', 'J/D/H']\n"
          ]
        }
      ],
      "source": [
        "from collections import Counter\n",
        "\n",
        "no_of_seq=int(input(\"Enter how many sequences is to be entered:\"))\n",
        "sequence=[]\n",
        "lst2=[]\n",
        "consensus=[]\n",
        "\n",
        "\n",
        "def take_input(sequence):\n",
        "    global no_of_element\n",
        "    seq=input(\"Enter the seq in comma separated format:\")\n",
        "    element=seq.split(\",\")\n",
        "    if not sequence:\n",
        "        no_of_element=len(element)\n",
        "    if len(element)==no_of_element:\n",
        "        sequence.append(element)\n",
        "        return True\n",
        "    else:\n",
        "        return False\n",
        "\n",
        "for i in range(no_of_seq):\n",
        "    check=take_input(sequence)\n",
        "    if not check:\n",
        "        print(\"Please enter the seq of correct length\")\n",
        "        check=take_iput(sequence)\n",
        "        if not check:\n",
        "            break\n",
        "\n",
        "#creates a dynamic empty list to store value columnwise\n",
        "for i in range(len(sequence[0])):\n",
        "    lst2.append([])\n",
        "\n",
        "\n",
        "#Creates list columnwise\n",
        "for i in range(len(sequence[0])):   #length of first element of whole sequence\n",
        "    for j in range(len(sequence)):  #no_of_ssequences\n",
        "        lst2[i].append(sequence[j][i])\n",
        "\n",
        "#counting the occurence of elements and appending as per need\n",
        "for j in lst2:\n",
        "    nul_list=[]\n",
        "    j=[x for x in j if x != '-']\n",
        "    counter=Counter(j)\n",
        "    if len(list(counter.keys()))==1:\n",
        "        consensus.append(list(counter.keys())[0].upper())\n",
        "    elif len(list(counter.keys()))>1:\n",
        "        max_value=max(counter.values())\n",
        "        for i in range(len(list(counter.keys()))):\n",
        "            if max_value==counter.get(list(counter.keys())[i]):\n",
        "                nul_list.append(list(counter.keys())[i].upper())\n",
        "        if len(nul_list)>1:\n",
        "            consensus.append(nul_list)\n",
        "        else:\n",
        "            consensus.append(nul_list[0].lower())\n",
        "\n",
        "#joining with /\n",
        "for i in range(len(consensus)):\n",
        "    final_str=''\n",
        "    if type(consensus[i])==list:\n",
        "        final_str='/'.join(consensus[i])\n",
        "        consensus[i]=final_str\n",
        "print(\"Consensus: \",consensus)"
      ]
    }
  ]
}