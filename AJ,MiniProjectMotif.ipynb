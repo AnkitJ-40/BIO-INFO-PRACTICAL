{
  "nbformat": 4,
  "nbformat_minor": 0,
  "metadata": {
    "colab": {
      "name": "AJ,MiniProjectMotif.ipynb",
      "provenance": [],
      "authorship_tag": "ABX9TyN4KCIfEbYwN5Eojzie35VM",
      "include_colab_link": true
    },
    "kernelspec": {
      "name": "python3",
      "display_name": "Python 3"
    },
    "language_info": {
      "name": "python"
    }
  },
  "cells": [
    {
      "cell_type": "markdown",
      "metadata": {
        "id": "view-in-github",
        "colab_type": "text"
      },
      "source": [
        "<a href=\"https://colab.research.google.com/github/AnkitJ-40/BIO-INFO-PRACTICAL/blob/main/AJ%2CMiniProjectMotif.ipynb\" target=\"_parent\"><img src=\"https://colab.research.google.com/assets/colab-badge.svg\" alt=\"Open In Colab\"/></a>"
      ]
    },
    {
      "cell_type": "code",
      "execution_count": null,
      "metadata": {
        "id": "NdkEdIwBDoWn"
      },
      "outputs": [],
      "source": [
        "from random import randint\n",
        "\n",
        "def motif(input_file_name : str) -> str:\n",
        "    with open(input_file_name) as input_file_handle:\n",
        "            input_file_data = input_file_handle.read()\n",
        "                    input_file_handle.close()\n",
        "                        \n",
        "                            input_file_data = input_file_data.replace(\"\\n\", \"\")\n",
        "                                \n",
        "                                    #motif_length = randint(2, len(input_file_data) - 1)\n",
        "                                        motif_length = randint(2, 10)\n",
        "                                            start_index = randint(0, len(input_file_data) - motif_length)\n",
        "                                                \n",
        "                                                    return input_file_data[start_index : start_index + motif_length]\n",
        "\n",
        "                                                    def search_for_motif(motif : str, search_file_name : str) -> int:\n",
        "                                                        with open(search_file_name) as search_file_handle:\n",
        "                                                                search_file_data = search_file_handle.read()\n",
        "                                                                        search_file_handle.close()\n",
        "                                                                            \n",
        "                                                                                search_file_data = search_file_data.replace(\"\\n\", \"\")\n",
        "                                                                                    \n",
        "                                                                                        index = search_file_data.find(motif)\n",
        "                                                                                            \n",
        "                                                                                                return index\n",
        "\n",
        "                                                                                                if __name__ == \"__main__\":\n",
        "                                                                                                    input_file_name = input(\"Enter a file name >\\t\")\n",
        "                                                                                                        generated_motif = motif(input_file_name)\n",
        "                                                                                                            print(\"\\n\\nMotif generation successful.\")\n",
        "                                                                                                                print(f\"\\nMotif length: {len(generated_motif)}\")\n",
        "                                                                                                                    print(f\"\\nMotif: {generated_motif}\")\n",
        "                                                                                                                        \n",
        "                                                                                                                            search_file_name = input(\"Enter a file name to be searched >\\t\")\n",
        "                                                                                                                                index = search_for_motif(generated_motif, search_file_name)\n",
        "                                                                                                                                    \n",
        "                                                                                                                                        if index > 0:\n",
        "                                                                                                                                                print(\"Given motif is found at index:\\t\", index)\n",
        "                                                                                                                                                    else:\n",
        "                                                                                                                                                            print(\"Motif not found in document\")"
      ]
    }
  ]
}